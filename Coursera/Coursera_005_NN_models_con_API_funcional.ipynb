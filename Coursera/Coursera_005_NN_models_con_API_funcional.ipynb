{
 "cells": [
  {
   "cell_type": "markdown",
   "metadata": {},
   "source": [
    "Cuando no necesitamos un modelo sequencial usamos Model  \n",
    "Una vez definido el modelo, podemos entrenar y evaluar como si fuera un sequencial.  \n",
    "\n",
    "La API funcional para modelos empieza con definiendo los inputs, una vez definidos estos, haremos transformaciones para los inputs iterativamente "
   ]
  },
  {
   "cell_type": "code",
   "execution_count": 4,
   "metadata": {},
   "outputs": [],
   "source": [
    "from keras.layers import Input, Dense\n",
    "from keras.models import Model\n",
    "\n",
    "num_classes = 10\n",
    "inputs      = Input(shape=(784,))\n",
    "\n",
    "x = Dense(512, activation='relu') (inputs)\n",
    "x = Dense(512, activation='relu') (x)\n",
    "\n",
    "predictions = Dense(num_classes,activation='softmax')(x)"
   ]
  },
  {
   "cell_type": "code",
   "execution_count": 5,
   "metadata": {
    "collapsed": true
   },
   "outputs": [],
   "source": [
    "model = Model(inputs=inputs, outputs=predictions)\n",
    "\n",
    "model.compile(optimizer='sgd',\n",
    "             loss='categorical_crossentropy',\n",
    "             metrics=['accuracy'])"
   ]
  },
  {
   "cell_type": "code",
   "execution_count": 27,
   "metadata": {},
   "outputs": [],
   "source": [
    "from keras.datasets import mnist\n",
    "from keras.utils import to_categorical\n",
    "from keras.models import Sequential\n",
    "from keras.layers import Dense, Dropout\n",
    "\n",
    "batch_size = 128  # \n",
    "num_classes = 10  # prediciones 0-9\n",
    "epochs = 20\n",
    "\n",
    "(x_train,y_train), (x_test,y_test) = mnist.load_data()"
   ]
  },
  {
   "cell_type": "code",
   "execution_count": 29,
   "metadata": {
    "collapsed": true
   },
   "outputs": [],
   "source": [
    "tam_train = 60000\n",
    "tam_test  = 10000\n",
    "tam_pixeles = 28*28 # 784\n",
    "\n",
    "\n",
    "x_train = x_train.reshape(tam_train,tam_pixeles)\n",
    "x_test  = x_test.reshape(tam_test,tam_pixeles)\n",
    "\n",
    "x_train = x_train.astype('float32') \n",
    "x_test = x_test.astype('float32') \n",
    "\n",
    "x_train /= 255\n",
    "x_test  /= 255\n",
    "\n",
    "y_train = to_categorical(y_train,num_classes)\n",
    "y_test  = to_categorical(y_test ,num_classes)"
   ]
  },
  {
   "cell_type": "code",
   "execution_count": 31,
   "metadata": {},
   "outputs": [
    {
     "name": "stdout",
     "output_type": "stream",
     "text": [
      "_________________________________________________________________\n",
      "Layer (type)                 Output Shape              Param #   \n",
      "=================================================================\n",
      "input_1 (InputLayer)         (None, 784)               0         \n",
      "_________________________________________________________________\n",
      "dense_1 (Dense)              (None, 512)               401920    \n",
      "_________________________________________________________________\n",
      "dense_2 (Dense)              (None, 512)               262656    \n",
      "_________________________________________________________________\n",
      "dense_3 (Dense)              (None, 10)                5130      \n",
      "=================================================================\n",
      "Total params: 669,706\n",
      "Trainable params: 669,706\n",
      "Non-trainable params: 0\n",
      "_________________________________________________________________\n"
     ]
    }
   ],
   "source": [
    "model.summary()"
   ]
  },
  {
   "cell_type": "code",
   "execution_count": 30,
   "metadata": {},
   "outputs": [
    {
     "name": "stdout",
     "output_type": "stream",
     "text": [
      "Train on 60000 samples, validate on 10000 samples\n",
      "Epoch 1/15\n",
      "60000/60000 [==============================] - 21s 343us/step - loss: 0.5727 - acc: 0.8553 - val_loss: 0.2966 - val_acc: 0.9140\n",
      "Epoch 2/15\n",
      "60000/60000 [==============================] - 21s 349us/step - loss: 0.2737 - acc: 0.9217 - val_loss: 0.2380 - val_acc: 0.9319\n",
      "Epoch 3/15\n",
      "60000/60000 [==============================] - 21s 344us/step - loss: 0.2212 - acc: 0.9373 - val_loss: 0.1973 - val_acc: 0.9426\n",
      "Epoch 4/15\n",
      "60000/60000 [==============================] - 20s 334us/step - loss: 0.1876 - acc: 0.9462 - val_loss: 0.1725 - val_acc: 0.9491\n",
      "Epoch 5/15\n",
      "60000/60000 [==============================] - 20s 341us/step - loss: 0.1620 - acc: 0.9536 - val_loss: 0.1528 - val_acc: 0.9551\n",
      "Epoch 6/15\n",
      "60000/60000 [==============================] - 21s 343us/step - loss: 0.1429 - acc: 0.9593 - val_loss: 0.1429 - val_acc: 0.9590\n",
      "Epoch 7/15\n",
      "60000/60000 [==============================] - 22s 364us/step - loss: 0.1275 - acc: 0.9642 - val_loss: 0.1354 - val_acc: 0.9609\n",
      "Epoch 8/15\n",
      "60000/60000 [==============================] - 21s 348us/step - loss: 0.1150 - acc: 0.9676 - val_loss: 0.1202 - val_acc: 0.9651\n",
      "Epoch 9/15\n",
      "60000/60000 [==============================] - 20s 332us/step - loss: 0.1043 - acc: 0.9710 - val_loss: 0.1108 - val_acc: 0.9672\n",
      "Epoch 10/15\n",
      "60000/60000 [==============================] - 19s 321us/step - loss: 0.0952 - acc: 0.9730 - val_loss: 0.1054 - val_acc: 0.9689\n",
      "Epoch 11/15\n",
      "60000/60000 [==============================] - 19s 319us/step - loss: 0.0872 - acc: 0.9759 - val_loss: 0.1029 - val_acc: 0.9696\n",
      "Epoch 12/15\n",
      "60000/60000 [==============================] - 19s 318us/step - loss: 0.0803 - acc: 0.9774 - val_loss: 0.0982 - val_acc: 0.9700\n",
      "Epoch 13/15\n",
      "60000/60000 [==============================] - 19s 318us/step - loss: 0.0740 - acc: 0.9798 - val_loss: 0.0966 - val_acc: 0.9713\n",
      "Epoch 14/15\n",
      "60000/60000 [==============================] - 21s 343us/step - loss: 0.0684 - acc: 0.9811 - val_loss: 0.0874 - val_acc: 0.9726\n",
      "Epoch 15/15\n",
      "60000/60000 [==============================] - 22s 360us/step - loss: 0.0636 - acc: 0.9825 - val_loss: 0.0864 - val_acc: 0.9736\n"
     ]
    },
    {
     "data": {
      "text/plain": [
       "<keras.callbacks.History at 0x16fa49890f0>"
      ]
     },
     "execution_count": 30,
     "metadata": {},
     "output_type": "execute_result"
    }
   ],
   "source": [
    "# igual que antes\n",
    "model.fit(x_train,\n",
    "          y_train,\n",
    "          batch_size=32,\n",
    "          epochs = 15,\n",
    "          validation_data=(x_test,y_test))"
   ]
  },
  {
   "cell_type": "code",
   "execution_count": 32,
   "metadata": {},
   "outputs": [
    {
     "name": "stdout",
     "output_type": "stream",
     "text": [
      "Test loss 0.0864378851501\n",
      "Test accuracy 0.9736\n"
     ]
    }
   ],
   "source": [
    "score = model.evaluate(x_test,\n",
    "                       y_test, \n",
    "                       verbose =0)\n",
    "\n",
    "print('Test loss', score[0])\n",
    "print('Test accuracy',score[1])"
   ]
  }
 ],
 "metadata": {
  "kernelspec": {
   "display_name": "Python 3",
   "language": "python",
   "name": "python3"
  },
  "language_info": {
   "codemirror_mode": {
    "name": "ipython",
    "version": 3
   },
   "file_extension": ".py",
   "mimetype": "text/x-python",
   "name": "python",
   "nbconvert_exporter": "python",
   "pygments_lexer": "ipython3",
   "version": "3.6.3"
  }
 },
 "nbformat": 4,
 "nbformat_minor": 2
}
