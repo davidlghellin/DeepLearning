{
 "cells": [
  {
   "cell_type": "markdown",
   "metadata": {},
   "source": [
    "El modelo completo (arquitectura, pesos, entrenamiento, configuración) puede ser guardado como hdf5  \n",
    "solamente arquitectura (json o yaml)\n",
    "peso solo (hdf5)\n"
   ]
  },
  {
   "cell_type": "code",
   "execution_count": null,
   "metadata": {
    "collapsed": true
   },
   "outputs": [],
   "source": [
    "from keras.models import model_from_json\n",
    "\n",
    "# guardar\n",
    "json_string = model.to_json() #model.to_yaml()\n",
    "model.save_weights('pesos.h5')\n",
    "\n",
    "# cargar\n",
    "model = model_from_json(json_string)\n",
    "model.load_weights('pesos.h5')"
   ]
  },
  {
   "cell_type": "code",
   "execution_count": null,
   "metadata": {
    "collapsed": true
   },
   "outputs": [],
   "source": [
    "from keras.models import load_model\n",
    "\n",
    "model.save('full.h5')\n",
    "\n",
    "\n",
    "model = load_model('full.h5')"
   ]
  }
 ],
 "metadata": {
  "kernelspec": {
   "display_name": "Python 3",
   "language": "python",
   "name": "python3"
  },
  "language_info": {
   "codemirror_mode": {
    "name": "ipython",
    "version": 3
   },
   "file_extension": ".py",
   "mimetype": "text/x-python",
   "name": "python",
   "nbconvert_exporter": "python",
   "pygments_lexer": "ipython3",
   "version": "3.6.3"
  }
 },
 "nbformat": 4,
 "nbformat_minor": 2
}
