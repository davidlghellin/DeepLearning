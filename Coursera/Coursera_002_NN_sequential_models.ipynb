{
 "cells": [
  {
   "cell_type": "markdown",
   "metadata": {},
   "source": [
    "# Keras sequential"
   ]
  },
  {
   "cell_type": "code",
   "execution_count": 1,
   "metadata": {
    "collapsed": true
   },
   "outputs": [],
   "source": [
    "import matplotlib.pyplot as plt\n",
    "%matplotlib inline"
   ]
  },
  {
   "cell_type": "code",
   "execution_count": 2,
   "metadata": {},
   "outputs": [
    {
     "name": "stderr",
     "output_type": "stream",
     "text": [
      "Using TensorFlow backend.\n"
     ]
    }
   ],
   "source": [
    "from keras.models import Sequential\n",
    "from keras.layers import Dense\n",
    "from keras.optimizers import SGD"
   ]
  },
  {
   "cell_type": "markdown",
   "metadata": {},
   "source": [
    "https://keras.io/getting-started/sequential-model-guide/\n",
    "https://keras.io/models/sequential/\n",
    "\n",
    "En modelos sequetial las capas tiene input, output, input_shape y output_shape.\n",
    "\n",
    "Podemos obtener los pesos:\n",
    "layer.getwights()\n",
    "La conficuración:\n",
    "layer.get_config()\n",
    "\n",
    "Pasos para construir un modelo sequential:\n",
    "1. Instanciar modelo Sequential\n",
    "2. Añadir capas\n",
    "3. Compilar el modelo con función de perdida, optimizador y opcinalmente metricas de evaluación\n",
    "4. Entrenar modelo\n",
    "5. Evaluar modelo, serializar o guardar"
   ]
  },
  {
   "cell_type": "markdown",
   "metadata": {},
   "source": [
    "## Compilar modelo\n",
    "### Función de perdida"
   ]
  },
  {
   "cell_type": "code",
   "execution_count": null,
   "metadata": {
    "collapsed": true
   },
   "outputs": [],
   "source": [
    "## op1 importando las funciones de perdida (recomendado)\n",
    "from keras.losses import mean_squared_error\n",
    "model.compile(loss=mean_squared_error, optimizer=....)\n",
    "\n",
    "## op2 llamada by_name usando String\n",
    "model.compile(loss='mean_squared_error', optimizer=....)"
   ]
  },
  {
   "cell_type": "markdown",
   "metadata": {},
   "source": [
    "### Optimizador"
   ]
  },
  {
   "cell_type": "code",
   "execution_count": null,
   "metadata": {
    "collapsed": true
   },
   "outputs": [],
   "source": [
    "## op1 importando los optimizadores (recomendado)\n",
    "from keras.optimizers import SGD\n",
    "\n",
    "sgd = SGD( lr = 0.01,    # ratio de aprendizaje\n",
    "         decay = 1e-6,   # actualización\n",
    "         momentum = 0.9) # \n",
    "\n",
    "model.compile(loss=... , optimizer= sgd)\n",
    "\n",
    "# op2 pasando String con los valores por defecto\n",
    "model.compile(loss=.... , optimizer='sgd')"
   ]
  },
  {
   "cell_type": "markdown",
   "metadata": {},
   "source": [
    "## Entrenar, evaluar y predecir"
   ]
  },
  {
   "cell_type": "markdown",
   "metadata": {},
   "source": [
    "### Entrenar"
   ]
  },
  {
   "cell_type": "code",
   "execution_count": null,
   "metadata": {
    "collapsed": true
   },
   "outputs": [],
   "source": [
    "model.model.fit(x_train,\n",
    "          y_train,\n",
    "          batch_size = 32,\n",
    "          epochs = 10,\n",
    "          validation_data = (x_val,y_val))"
   ]
  },
  {
   "cell_type": "markdown",
   "metadata": {},
   "source": [
    "### Evaluar test"
   ]
  },
  {
   "cell_type": "code",
   "execution_count": null,
   "metadata": {
    "collapsed": true
   },
   "outputs": [],
   "source": [
    "model.evaluate(x_test,\n",
    "         y_test,\n",
    "         batch_size=32)"
   ]
  },
  {
   "cell_type": "markdown",
   "metadata": {},
   "source": [
    "### Predict"
   ]
  },
  {
   "cell_type": "code",
   "execution_count": null,
   "metadata": {
    "collapsed": true
   },
   "outputs": [],
   "source": [
    "model.predict(x_test,batch_size=32)"
   ]
  }
 ],
 "metadata": {
  "kernelspec": {
   "display_name": "Python 3",
   "language": "python",
   "name": "python3"
  },
  "language_info": {
   "codemirror_mode": {
    "name": "ipython",
    "version": 3
   },
   "file_extension": ".py",
   "mimetype": "text/x-python",
   "name": "python",
   "nbconvert_exporter": "python",
   "pygments_lexer": "ipython3",
   "version": "3.6.3"
  }
 },
 "nbformat": 4,
 "nbformat_minor": 2
}
