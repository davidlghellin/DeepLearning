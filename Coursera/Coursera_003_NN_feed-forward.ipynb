{
 "cells": [
  {
   "cell_type": "markdown",
   "metadata": {},
   "source": [
    "Veamos como usamos feed-forward en Keras"
   ]
  },
  {
   "cell_type": "markdown",
   "metadata": {},
   "source": [
    "Perceptron multicapa (MLPs) \n",
    "\n",
    "\n",
    "* Capas con activación\n",
    "* Dropout para regularización\n",
    "* Construir un modelo sequential Dense con capas Dropout\n"
   ]
  },
  {
   "cell_type": "markdown",
   "metadata": {},
   "source": [
    "### Dense"
   ]
  },
  {
   "cell_type": "code",
   "execution_count": null,
   "metadata": {
    "collapsed": true
   },
   "outputs": [],
   "source": [
    "from keras.layer import Dense\n",
    "\n",
    "Dense(units,            # número de neuronas \n",
    "     activation=None,   # funcion de activacion by_name\n",
    "     use_bias=True,     # uso o no de vias\n",
    "     kernel_initializer='glorot_uniform',\n",
    "     bias_initializer='zeros')"
   ]
  },
  {
   "cell_type": "markdown",
   "metadata": {},
   "source": [
    "### Dropout"
   ]
  },
  {
   "cell_type": "code",
   "execution_count": null,
   "metadata": {
    "collapsed": true
   },
   "outputs": [],
   "source": [
    "from keras.layer import Dropout\n",
    "\n",
    "Dropout(rate,     # porcentaje a desconectar\n",
    "       seed=None) # semilla aleatoría para volver a reproducir"
   ]
  },
  {
   "cell_type": "markdown",
   "metadata": {},
   "source": [
    "### Import y carga de datos"
   ]
  },
  {
   "cell_type": "code",
   "execution_count": 52,
   "metadata": {
    "collapsed": true
   },
   "outputs": [],
   "source": [
    "from keras.datasets import mnist\n",
    "from keras.utils import to_categorical\n",
    "from keras.models import Sequential\n",
    "from keras.layers import Dense, Dropout"
   ]
  },
  {
   "cell_type": "code",
   "execution_count": 53,
   "metadata": {
    "collapsed": true
   },
   "outputs": [],
   "source": [
    "batch_size = 128  # \n",
    "num_classes = 10  # prediciones 0-9\n",
    "epochs = 20\n",
    "\n",
    "(x_train,y_train), (x_test,y_test) = mnist.load_data()"
   ]
  },
  {
   "cell_type": "code",
   "execution_count": 54,
   "metadata": {},
   "outputs": [
    {
     "name": "stdout",
     "output_type": "stream",
     "text": [
      "(60000, 28, 28)\n"
     ]
    }
   ],
   "source": [
    "print(x_train.shape)"
   ]
  },
  {
   "cell_type": "code",
   "execution_count": 55,
   "metadata": {},
   "outputs": [
    {
     "name": "stdout",
     "output_type": "stream",
     "text": [
      "(10000, 28, 28)\n"
     ]
    }
   ],
   "source": [
    "print(x_test.shape)"
   ]
  },
  {
   "cell_type": "markdown",
   "metadata": {},
   "source": [
    "Como podemos ver tenemos 60.000 datos de entrenamiento y 10.000 datos para test.\n",
    "\n",
    "Con imagenes de 28*28 que representa digitos escritos a mano\n"
   ]
  },
  {
   "cell_type": "code",
   "execution_count": 56,
   "metadata": {
    "collapsed": true
   },
   "outputs": [],
   "source": [
    "import matplotlib.pyplot as plt\n",
    "%matplotlib inline"
   ]
  },
  {
   "cell_type": "code",
   "execution_count": 57,
   "metadata": {},
   "outputs": [
    {
     "name": "stdout",
     "output_type": "stream",
     "text": [
      "Digit class: 5\n"
     ]
    },
    {
     "data": {
      "image/png": "[encoded data removed]",
      "text/plain": [
       "<matplotlib.figure.Figure at 0x1785b8f2b70>"
      ]
     },
     "metadata": {},
     "output_type": "display_data"
    }
   ],
   "source": [
    "plt.imshow(x_train[0], 'gray')\n",
    "print(\"Digit class:\", y_train[0])"
   ]
  },
  {
   "cell_type": "markdown",
   "metadata": {},
   "source": [
    "En la variable y tenemos la clase a la que pertenece"
   ]
  },
  {
   "cell_type": "code",
   "execution_count": 58,
   "metadata": {},
   "outputs": [
    {
     "data": {
      "text/plain": [
       "array([5, 0, 4, ..., 5, 6, 8], dtype=uint8)"
      ]
     },
     "execution_count": 58,
     "metadata": {},
     "output_type": "execute_result"
    }
   ],
   "source": [
    "y_train"
   ]
  },
  {
   "cell_type": "markdown",
   "metadata": {},
   "source": [
    "## Procesamiento de datos"
   ]
  },
  {
   "cell_type": "markdown",
   "metadata": {},
   "source": [
    "Vamos a preparar los datos de la imagen para que Keras los acepte\n",
    "\n",
    "redimensionar  \n",
    "convertir a float  \n",
    "normalizar  \n",
    "cargar como categorías la salida  "
   ]
  },
  {
   "cell_type": "code",
   "execution_count": 59,
   "metadata": {
    "collapsed": true
   },
   "outputs": [],
   "source": [
    "tam_train = 60000\n",
    "tam_test  = 10000\n",
    "tam_pixeles = 28*28 # 784\n",
    "\n",
    "\n",
    "x_train = x_train.reshape(tam_train,tam_pixeles)\n",
    "x_test  = x_test.reshape(tam_test,tam_pixeles)\n",
    "\n",
    "x_train = x_train.astype('float32') \n",
    "x_test = x_test.astype('float32') \n",
    "\n",
    "x_train /= 255\n",
    "x_test  /= 255\n",
    "\n",
    "y_train = to_categorical(y_train,num_classes)\n",
    "y_test  = to_categorical(y_test ,num_classes)"
   ]
  },
  {
   "cell_type": "code",
   "execution_count": 60,
   "metadata": {},
   "outputs": [
    {
     "name": "stdout",
     "output_type": "stream",
     "text": [
      "(60000, 784)\n"
     ]
    }
   ],
   "source": [
    "print(x_train.shape)"
   ]
  },
  {
   "cell_type": "markdown",
   "metadata": {},
   "source": [
    "## Definiendo y compilando el modelo"
   ]
  },
  {
   "cell_type": "code",
   "execution_count": 48,
   "metadata": {},
   "outputs": [
    {
     "name": "stdout",
     "output_type": "stream",
     "text": [
      "_________________________________________________________________\n",
      "Layer (type)                 Output Shape              Param #   \n",
      "=================================================================\n",
      "dense_16 (Dense)             (None, 512)               401920    \n",
      "_________________________________________________________________\n",
      "dropout_10 (Dropout)         (None, 512)               0         \n",
      "_________________________________________________________________\n",
      "dense_17 (Dense)             (None, 512)               262656    \n",
      "_________________________________________________________________\n",
      "dropout_11 (Dropout)         (None, 512)               0         \n",
      "_________________________________________________________________\n",
      "dense_18 (Dense)             (None, 10)                5130      \n",
      "=================================================================\n",
      "Total params: 669,706\n",
      "Trainable params: 669,706\n",
      "Non-trainable params: 0\n",
      "_________________________________________________________________\n"
     ]
    }
   ],
   "source": [
    "model = Sequential()\n",
    "model.add(Dense(512,activation='relu',\n",
    "               input_shape=(784,))) # primera capa solamente, \n",
    "                                    # longitud de los vectores\n",
    "\n",
    "model.add(Dropout(0.2))\n",
    "model.add(Dense(512,activation='relu'))\n",
    "model.add(Dropout(0.2))\n",
    "\n",
    "model.add(Dense(num_classes,activation = 'softmax'))\n",
    "\n",
    "model.summary()"
   ]
  },
  {
   "cell_type": "code",
   "execution_count": 49,
   "metadata": {
    "collapsed": true
   },
   "outputs": [],
   "source": [
    "model.compile(loss='categorical_crossentropy'\n",
    "              ,optimizer='sgd',\n",
    "              metrics=['accuracy'])"
   ]
  },
  {
   "cell_type": "markdown",
   "metadata": {},
   "source": [
    "### Entrenamos"
   ]
  },
  {
   "cell_type": "code",
   "execution_count": 62,
   "metadata": {},
   "outputs": [
    {
     "name": "stdout",
     "output_type": "stream",
     "text": [
      "Train on 60000 samples, validate on 10000 samples\n",
      "Epoch 1/20\n",
      "60000/60000 [==============================] - 12s 201us/step - loss: 0.7064 - acc: 0.8133 - val_loss: 0.4366 - val_acc: 0.8851\n",
      "Epoch 2/20\n",
      "60000/60000 [==============================] - 12s 199us/step - loss: 0.4713 - acc: 0.8645 - val_loss: 0.3477 - val_acc: 0.9042\n",
      "Epoch 3/20\n",
      "60000/60000 [==============================] - 11s 183us/step - loss: 0.3972 - acc: 0.8850 - val_loss: 0.3097 - val_acc: 0.9120\n",
      "Epoch 4/20\n",
      "60000/60000 [==============================] - 11s 175us/step - loss: 0.3580 - acc: 0.8970 - val_loss: 0.2831 - val_acc: 0.9198\n",
      "Epoch 5/20\n",
      "60000/60000 [==============================] - 11s 176us/step - loss: 0.3299 - acc: 0.9038 - val_loss: 0.2638 - val_acc: 0.9233\n",
      "Epoch 6/20\n",
      "60000/60000 [==============================] - 11s 189us/step - loss: 0.3076 - acc: 0.9109 - val_loss: 0.2469 - val_acc: 0.9269\n",
      "Epoch 7/20\n",
      "60000/60000 [==============================] - 11s 181us/step - loss: 0.2890 - acc: 0.9163 - val_loss: 0.2350 - val_acc: 0.9310\n",
      "Epoch 8/20\n",
      "60000/60000 [==============================] - 12s 192us/step - loss: 0.2742 - acc: 0.9206 - val_loss: 0.2229 - val_acc: 0.9341\n",
      "Epoch 9/20\n",
      "60000/60000 [==============================] - 12s 201us/step - loss: 0.2597 - acc: 0.9246 - val_loss: 0.2119 - val_acc: 0.9379\n",
      "Epoch 10/20\n",
      "60000/60000 [==============================] - 14s 231us/step - loss: 0.2463 - acc: 0.9291 - val_loss: 0.2038 - val_acc: 0.9403\n",
      "Epoch 11/20\n",
      "60000/60000 [==============================] - 11s 176us/step - loss: 0.2362 - acc: 0.9317 - val_loss: 0.1939 - val_acc: 0.9433\n",
      "Epoch 12/20\n",
      "60000/60000 [==============================] - 10s 166us/step - loss: 0.2268 - acc: 0.9339 - val_loss: 0.1863 - val_acc: 0.9451\n",
      "Epoch 13/20\n",
      "60000/60000 [==============================] - 10s 167us/step - loss: 0.2173 - acc: 0.9372 - val_loss: 0.1795 - val_acc: 0.9474\n",
      "Epoch 14/20\n",
      "60000/60000 [==============================] - 10s 163us/step - loss: 0.2070 - acc: 0.9400 - val_loss: 0.1732 - val_acc: 0.9492\n",
      "Epoch 15/20\n",
      "60000/60000 [==============================] - 10s 171us/step - loss: 0.2003 - acc: 0.9415 - val_loss: 0.1672 - val_acc: 0.9508\n",
      "Epoch 16/20\n",
      "60000/60000 [==============================] - 11s 190us/step - loss: 0.1943 - acc: 0.9437 - val_loss: 0.1615 - val_acc: 0.9526\n",
      "Epoch 17/20\n",
      "60000/60000 [==============================] - 11s 180us/step - loss: 0.1881 - acc: 0.9444 - val_loss: 0.1567 - val_acc: 0.9533\n",
      "Epoch 18/20\n",
      "60000/60000 [==============================] - 11s 190us/step - loss: 0.1808 - acc: 0.9469 - val_loss: 0.1518 - val_acc: 0.9548\n",
      "Epoch 19/20\n",
      "60000/60000 [==============================] - 11s 189us/step - loss: 0.1763 - acc: 0.9485 - val_loss: 0.1477 - val_acc: 0.9557\n",
      "Epoch 20/20\n",
      "60000/60000 [==============================] - 11s 191us/step - loss: 0.1701 - acc: 0.9513 - val_loss: 0.1437 - val_acc: 0.9568\n"
     ]
    },
    {
     "data": {
      "text/plain": [
       "<keras.callbacks.History at 0x1785b891f28>"
      ]
     },
     "execution_count": 62,
     "metadata": {},
     "output_type": "execute_result"
    }
   ],
   "source": [
    "model.fit(x_train,\n",
    "          y_train,\n",
    "          batch_size=batch_size,\n",
    "          epochs=epochs,\n",
    "          validation_data=(x_test,y_test)\n",
    "         )"
   ]
  },
  {
   "cell_type": "code",
   "execution_count": 64,
   "metadata": {},
   "outputs": [
    {
     "name": "stdout",
     "output_type": "stream",
     "text": [
      "Test loss 0.143711302557\n",
      "Test accuracy 0.9568\n"
     ]
    }
   ],
   "source": [
    "score = model.evaluate(x_test,\n",
    "                       y_test, \n",
    "                       verbose =0)\n",
    "\n",
    "print('Test loss', score[0])\n",
    "print('Test accuracy',score[1])"
   ]
  }
 ],
 "metadata": {
  "kernelspec": {
   "display_name": "Python 3",
   "language": "python",
   "name": "python3"
  },
  "language_info": {
   "codemirror_mode": {
    "name": "ipython",
    "version": 3
   },
   "file_extension": ".py",
   "mimetype": "text/x-python",
   "name": "python",
   "nbconvert_exporter": "python",
   "pygments_lexer": "ipython3",
   "version": "3.6.3"
  }
 },
 "nbformat": 4,
 "nbformat_minor": 2
}
